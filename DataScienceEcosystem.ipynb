{
 "cells": [
  {
   "cell_type": "markdown",
   "id": "f4c61670-f4f3-4cf8-84ba-79efdd235e5b",
   "metadata": {},
   "source": [
    " # Data Science Tools and Ecosystem"
   ]
  },
  {
   "cell_type": "markdown",
   "id": "260a2f67-3b5e-4c6c-867c-ad1dae14d221",
   "metadata": {},
   "source": [
    "##### In this notebook, Data Science Tools and Ecosystem are summarized."
   ]
  },
  {
   "cell_type": "markdown",
   "id": "37783a68-cfcc-4c41-be47-d628a92d857b",
   "metadata": {},
   "source": [
    "**Objectives:**\n",
    "\n",
    "- Popular languages for Data Science are Python, R,SQL\n",
    "- Commonly used libraries in Data Science are Pandas, NumPy, Matplotlib etc\n",
    "- Learn about open-source tools used in Data Science\n",
    "- Understand basic arithmetic operations and their applications in Python\n",
    "- Convert time units (e.g., minutes to hours) in Python"
   ]
  },
  {
   "cell_type": "markdown",
   "id": "64d9f9dc-4665-4ac4-a91f-2041b16f9237",
   "metadata": {},
   "source": [
    "Some of the popular languages that Data Scientists use are:\n",
    "\n",
    "1. Python\n",
    "2. R\n",
    "3. SQL\n",
    "4. Julia\n",
    "5. Scala"
   ]
  },
  {
   "cell_type": "markdown",
   "id": "9f48faee-8ccc-4429-b905-142419ba0c47",
   "metadata": {},
   "source": [
    "Some of the commonly used libraries used by Data Scientists include:\n",
    "\n",
    "1. Pandas\n",
    "2. NumPy\n",
    "3. Matplotlib\n",
    "4. Scikit-learn\n",
    "5. TensorFlow"
   ]
  },
  {
   "cell_type": "markdown",
   "id": "49e28aba-5204-4657-aed1-4654402dbaf8",
   "metadata": {},
   "source": [
    "| Data Science Tools |\n",
    "|--------------------|\n",
    "| Jupyter Notebook   |\n",
    "| RStudio            |\n",
    "| Apache Zeppelin    |"
   ]
  },
  {
   "cell_type": "markdown",
   "id": "16e35c85-4fb3-41ea-bbf9-037cb3afcf9b",
   "metadata": {},
   "source": [
    "### Below are a few examples of evaluating arithmetic expressions in Python."
   ]
  },
  {
   "cell_type": "code",
   "execution_count": null,
   "id": "e91e0391-a7e9-416a-a1b6-2c85f756aeb1",
   "metadata": {},
   "outputs": [],
   "source": [
    "#### This is a simple arithmetic expression to multiply then add integers.\n",
    "result = (3 * 4) + 5"
   ]
  },
  {
   "cell_type": "code",
   "execution_count": 10,
   "id": "f7bc12ee-109e-4a24-9954-d70de6a97604",
   "metadata": {},
   "outputs": [
    {
     "name": "stdout",
     "output_type": "stream",
     "text": [
      "17\n"
     ]
    }
   ],
   "source": [
    "print(result)"
   ]
  },
  {
   "cell_type": "code",
   "execution_count": 11,
   "id": "85d7bc7e-9a80-4837-9ca1-b7a1f92fdc46",
   "metadata": {},
   "outputs": [
    {
     "data": {
      "text/plain": [
       "3.3333333333333335"
      ]
     },
     "execution_count": 11,
     "metadata": {},
     "output_type": "execute_result"
    }
   ],
   "source": [
    "# This will convert 200 minutes to hours by dividing by 60.\n",
    "hours = 200 / 60\n",
    "hours"
   ]
  },
  {
   "cell_type": "markdown",
   "id": "d9f3e8d7-e8b9-4489-8228-3b22b8a8d8c9",
   "metadata": {},
   "source": [
    "## Author\n",
    "Amar Singh"
   ]
  },
  {
   "cell_type": "code",
   "execution_count": null,
   "id": "03358bef-b854-4b67-a277-237c5b8d9f2a",
   "metadata": {},
   "outputs": [],
   "source": []
  }
 ],
 "metadata": {
  "kernelspec": {
   "display_name": "Python 3 (ipykernel)",
   "language": "python",
   "name": "python3"
  },
  "language_info": {
   "codemirror_mode": {
    "name": "ipython",
    "version": 3
   },
   "file_extension": ".py",
   "mimetype": "text/x-python",
   "name": "python",
   "nbconvert_exporter": "python",
   "pygments_lexer": "ipython3",
   "version": "3.11.9"
  }
 },
 "nbformat": 4,
 "nbformat_minor": 5
}
